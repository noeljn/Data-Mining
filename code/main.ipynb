{
 "cells": [
  {
   "cell_type": "code",
   "execution_count": null,
   "metadata": {},
   "outputs": [],
   "source": [
    "import hashlib\n",
    "\n",
    "class Shingling:\n",
    "    def __init__(self, k):\n",
    "        self.k = k\n",
    "        self.shingles = set()\n",
    "\n",
    "    def construct_shingles(self, document):\n",
    "        for i in range(len(document) - self.k + 1):\n",
    "            shingle = document[i:i+self.k]\n",
    "            self.shingles.add(shingle)\n",
    "\n",
    "    def compute_hashes(self):\n",
    "        hashed_shingles = {}\n",
    "        for shingle in self.shingles:\n",
    "            hash_value = int(hashlib.sha256(shingle.encode('utf-8')).hexdigest(), 16)\n",
    "            hashed_shingles[shingle] = hash_value\n",
    "        return hashed_shingles\n",
    "\n",
    "# Example Usage\n",
    "document = \"Lorem ipsum dolor sit amet, consectetur adipiscing elit.\"\n",
    "k = 5  # Example k value, you can choose any value for k\n",
    "\n",
    "shingling_obj = Shingling(k)\n",
    "shingling_obj.construct_shingles(document)\n",
    "hashed_shingles = shingling_obj.compute_hashes()\n",
    "print(hashed_shingles)"
   ]
  },
  {
   "cell_type": "markdown",
   "metadata": {},
   "source": [
    "ID2222: Lab 2 - "
   ]
  },
  {
   "cell_type": "code",
   "execution_count": null,
   "metadata": {},
   "outputs": [],
   "source": []
  }
 ],
 "metadata": {
  "kernelspec": {
   "display_name": "Python 3",
   "language": "python",
   "name": "python3"
  },
  "language_info": {
   "codemirror_mode": {
    "name": "ipython",
    "version": 3
   },
   "file_extension": ".py",
   "mimetype": "text/x-python",
   "name": "python",
   "nbconvert_exporter": "python",
   "pygments_lexer": "ipython3",
   "version": "3.10.7"
  }
 },
 "nbformat": 4,
 "nbformat_minor": 2
}
