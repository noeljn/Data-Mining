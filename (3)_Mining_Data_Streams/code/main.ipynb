{
 "cells": [
  {
   "cell_type": "markdown",
   "metadata": {},
   "source": [
    "# Homework 3: Mining Data Streams "
   ]
  },
  {
   "cell_type": "markdown",
   "metadata": {},
   "source": [
    "#### Team Members: Noel Karlsson Johansson, Alexander Olsson"
   ]
  },
  {
   "cell_type": "markdown",
   "metadata": {},
   "source": [
    "### Instructions:\n",
    "1. Download the dataset from the link on canvas\n",
    "2. Place the file in any directory you want\n",
    "3. Change the path in the code below to the path of the file\n",
    "4. Place the classes.py in the same directory as the main.ipynb file\n",
    "5. Install the packages in the requirements.txt file\n",
    "6. Run the code"
   ]
  },
  {
   "cell_type": "code",
   "execution_count": null,
   "metadata": {},
   "outputs": [],
   "source": [
    "from classes import *"
   ]
  },
  {
   "cell_type": "markdown",
   "metadata": {},
   "source": [
    "### Dataset & Path"
   ]
  },
  {
   "cell_type": "code",
   "execution_count": null,
   "metadata": {},
   "outputs": [],
   "source": [
    "path = \"data/web-NotreDame.txt\"\n",
    "dataset = Dataset(path)"
   ]
  },
  {
   "cell_type": "markdown",
   "metadata": {},
   "source": [
    "### Triest Base"
   ]
  },
  {
   "cell_type": "code",
   "execution_count": null,
   "metadata": {},
   "outputs": [],
   "source": [
    "M = [1000, 5000, 10000]\n",
    "iterations = 5\n",
    "estimations = []\n",
    "\n",
    "for m in M:\n",
    "    for i in range(iterations):\n",
    "        print(f\"Running iteration {i} with M = {m}\")\n",
    "        start = time.time()\n",
    "        triest = TriestBase(m)\n",
    "        triangles = triest(dataset.get_stream())\n",
    "        end = time.time()\n",
    "        estimations.append((i, m, triangles, end - start))\n",
    "\n",
    "print(estimations)"
   ]
  },
  {
   "cell_type": "markdown",
   "metadata": {},
   "source": [
    "### Triest Impr"
   ]
  },
  {
   "cell_type": "code",
   "execution_count": null,
   "metadata": {},
   "outputs": [],
   "source": [
    "M = [1000, 5000, 10000]\n",
    "iterations = 5\n",
    "estimations = []\n",
    "\n",
    "for m in M:\n",
    "    for i in range(iterations):\n",
    "        print(f\"Running iteration {i} with M = {m}\")\n",
    "        start = time.time()\n",
    "        triest = TriestImpr(m)\n",
    "        triangles = triest(dataset.get_stream())\n",
    "        end = time.time()\n",
    "        estimations.append((i, m, triangles, end - start))\n",
    "\n",
    "print(estimations)"
   ]
  }
 ],
 "metadata": {
  "language_info": {
   "name": "python"
  }
 },
 "nbformat": 4,
 "nbformat_minor": 2
}
